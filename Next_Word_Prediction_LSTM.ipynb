{
  "nbformat": 4,
  "nbformat_minor": 0,
  "metadata": {
    "colab": {
      "provenance": []
    },
    "kernelspec": {
      "name": "python3",
      "display_name": "Python 3"
    },
    "language_info": {
      "name": "python"
    }
  },
  "cells": [
    {
      "cell_type": "markdown",
      "source": [
        "# TODO: Import the required libraries"
      ],
      "metadata": {
        "id": "-ShLoND4kvBP"
      }
    },
    {
      "cell_type": "code",
      "source": [
        "# TODO\n",
        "import os\n",
        "import numpy as np\n",
        "import tensorflow as tf\n",
        "import random\n",
        "from google.colab import drive\n",
        "import re\n",
        "drive.mount('/content/drive')\n",
        "path = '/content/drive/MyDrive/alice.txt'\n",
        "from tensorflow.keras.preprocessing.text import Tokenizer\n",
        "from tensorflow.keras.preprocessing.sequence import pad_sequences\n",
        "from sklearn.model_selection import train_test_split\n",
        "import matplotlib.pyplot as plt\n",
        "from tensorflow.keras.models import Sequential\n",
        "from tensorflow.keras.layers import Embedding, LSTM, Dense"
      ],
      "metadata": {
        "id": "JNm5tMT4owV2",
        "outputId": "a0fba233-bae3-43b8-89ff-b0edf759bcf0",
        "colab": {
          "base_uri": "https://localhost:8080/"
        }
      },
      "execution_count": null,
      "outputs": [
        {
          "output_type": "stream",
          "name": "stdout",
          "text": [
            "Drive already mounted at /content/drive; to attempt to forcibly remount, call drive.mount(\"/content/drive\", force_remount=True).\n"
          ]
        }
      ]
    },
    {
      "cell_type": "markdown",
      "source": [
        "# Adding random seed"
      ],
      "metadata": {
        "id": "Pc0lsInBt0hO"
      }
    },
    {
      "cell_type": "code",
      "source": [
        "# Set environment variables\n",
        "os.environ['PYTHONHASHSEED'] = str(25)\n",
        "os.environ['TF_DETERMINISTIC_OPS'] = '1'\n",
        "os.environ['TF_CUDNN_DETERMINISTIC'] = '1'\n",
        "\n",
        "# Set seed values\n",
        "np.random.seed(25)\n",
        "tf.random.set_seed(25)\n",
        "random.seed(25)"
      ],
      "metadata": {
        "id": "-fG-gUjRt9N-"
      },
      "execution_count": null,
      "outputs": []
    },
    {
      "cell_type": "markdown",
      "source": [
        "# TODO: Read and Preprocess the dataset"
      ],
      "metadata": {
        "id": "PA28CYq9kzYI"
      }
    },
    {
      "cell_type": "code",
      "source": [
        "with open(path, 'r', encoding='utf-8') as file:\n",
        "    text = file.read()\n",
        "# Convert to lowercase\n",
        "text = text.lower()\n",
        "# Remove punctuation and special characters\n",
        "text = re.sub(r'[^\\w\\s]', '', text)"
      ],
      "metadata": {
        "id": "UF9gYFvBk4zQ",
        "outputId": "e707a298-3af2-4595-a5ed-449b4384c965",
        "colab": {
          "base_uri": "https://localhost:8080/"
        }
      },
      "execution_count": null,
      "outputs": [
        {
          "output_type": "stream",
          "name": "stdout",
          "text": [
            "Drive already mounted at /content/drive; to attempt to forcibly remount, call drive.mount(\"/content/drive\", force_remount=True).\n"
          ]
        }
      ]
    },
    {
      "cell_type": "code",
      "source": [
        "print(len(text))"
      ],
      "metadata": {
        "id": "2UHmLguZRMUS",
        "outputId": "c0853a06-1afb-4eef-8049-c07718f4e5bd",
        "colab": {
          "base_uri": "https://localhost:8080/"
        }
      },
      "execution_count": null,
      "outputs": [
        {
          "output_type": "stream",
          "name": "stdout",
          "text": [
            "140269\n"
          ]
        }
      ]
    },
    {
      "cell_type": "markdown",
      "source": [
        "# TODO: Using tokenizers"
      ],
      "metadata": {
        "id": "76FWfPQnlCfT"
      }
    },
    {
      "cell_type": "code",
      "source": [
        "# TODO: Tokenize the text\n",
        "tokenizer = Tokenizer()\n",
        "tokenizer.fit_on_texts([text])\n",
        "\n",
        "# Calculate the total number of unique words\n",
        "total_words = len(tokenizer.word_index) + 1  # Adding 1 to account for the tokenizer's indexing method\n",
        "\n",
        "# Print the total number of words\n",
        "print(f\"Total number of unique words: {total_words}\")"
      ],
      "metadata": {
        "id": "g8DkbTcZlDe6",
        "outputId": "fb34cfd1-719c-4f5f-c646-c3faf9b2cc4e",
        "colab": {
          "base_uri": "https://localhost:8080/"
        }
      },
      "execution_count": null,
      "outputs": [
        {
          "output_type": "stream",
          "name": "stdout",
          "text": [
            "Total number of unique words: 2751\n"
          ]
        }
      ]
    },
    {
      "cell_type": "code",
      "source": [
        "print(total_words)"
      ],
      "metadata": {
        "id": "66GlWnQmRPcx",
        "outputId": "a7317bd1-e7f6-4bbe-9f9e-b70d0121d433",
        "colab": {
          "base_uri": "https://localhost:8080/"
        }
      },
      "execution_count": null,
      "outputs": [
        {
          "output_type": "stream",
          "name": "stdout",
          "text": [
            "2751\n"
          ]
        }
      ]
    },
    {
      "cell_type": "markdown",
      "source": [
        "# TODO: Feature Engineering"
      ],
      "metadata": {
        "id": "9f7lULFglL2S"
      }
    },
    {
      "cell_type": "code",
      "source": [
        "lines = text.split('\\n')\n",
        "# TODO: Create input sequences\n",
        "input_sequences = []\n",
        "for line in lines:\n",
        "    token_list = tokenizer.texts_to_sequences([line])[0]\n",
        "    for i in range(1, len(token_list) + 1):\n",
        "        n_gram_sequence = token_list[:i]\n",
        "        input_sequences.append(n_gram_sequence)\n",
        "\n",
        "# Identify the maximum sequence length\n",
        "max_sequence_len = max([len(seq) for seq in input_sequences])\n",
        "\n",
        "# Pad sequences\n",
        "input_sequences = pad_sequences(input_sequences, maxlen=max_sequence_len, padding='pre')\n",
        "\n",
        "# Print the number of input sequences\n",
        "print(f\"Number of input sequences: {len(input_sequences)}\")\n"
      ],
      "metadata": {
        "id": "szpzGGFilQQF",
        "outputId": "8f7dfe33-0602-4396-fff9-ee695bffee7a",
        "colab": {
          "base_uri": "https://localhost:8080/"
        }
      },
      "execution_count": null,
      "outputs": [
        {
          "output_type": "stream",
          "name": "stdout",
          "text": [
            "Number of input sequences: 26410\n"
          ]
        }
      ]
    },
    {
      "cell_type": "code",
      "source": [
        "print(len(input_sequences))"
      ],
      "metadata": {
        "id": "xznaaN41YXsK",
        "outputId": "975c5a91-4658-40f3-cd19-496fd60956cb",
        "colab": {
          "base_uri": "https://localhost:8080/"
        }
      },
      "execution_count": null,
      "outputs": [
        {
          "output_type": "stream",
          "name": "stdout",
          "text": [
            "26410\n"
          ]
        }
      ]
    },
    {
      "cell_type": "markdown",
      "source": [
        "# TODO: Storing features and labels"
      ],
      "metadata": {
        "id": "3Sx1nF7ClSwv"
      }
    },
    {
      "cell_type": "code",
      "source": [
        "# TODO: Create predictors and labels\n",
        "input_sequences = np.array(input_sequences)\n",
        "X, y = input_sequences[:, :-1], input_sequences[:, -1]\n",
        "\n",
        "# Convert labels to one-hot encoded vectors\n",
        "y = tf.keras.utils.to_categorical(y, num_classes=len(tokenizer.word_index) + 1)\n",
        "\n",
        "# TODO: Split the data into training and validation sets\n",
        "X_train, X_val, y_train, y_val = train_test_split(X, y, test_size=0.2, random_state=25)\n",
        "\n",
        "# Print the size of the train and validation subsets\n",
        "print(f\"Training features shape: {X_train.shape}\")\n",
        "print(f\"Validation features shape: {X_val.shape}\")\n",
        "print(f\"Training labels shape: {y_train.shape}\")\n",
        "print(f\"Validation labels shape: {y_val.shape}\")"
      ],
      "metadata": {
        "id": "U72XiieKlTAG",
        "outputId": "03a73b9d-166b-4a93-bb21-7b80cc39a12f",
        "colab": {
          "base_uri": "https://localhost:8080/"
        }
      },
      "execution_count": null,
      "outputs": [
        {
          "output_type": "stream",
          "name": "stdout",
          "text": [
            "Training features shape: (21128, 15)\n",
            "Validation features shape: (5282, 15)\n",
            "Training labels shape: (21128, 2751)\n",
            "Validation labels shape: (5282, 2751)\n"
          ]
        }
      ]
    },
    {
      "cell_type": "markdown",
      "source": [
        "# TODO: Building our model"
      ],
      "metadata": {
        "id": "J2D4YaQ2lWxh"
      }
    },
    {
      "cell_type": "code",
      "source": [
        "# TODO: Build your model\n",
        "# Define the model\n",
        "model = Sequential()\n",
        "model.add(Embedding(input_dim=total_words, output_dim=100, input_length=max_sequence_len-1))\n",
        "model.add(LSTM(150))\n",
        "model.add(Dense(total_words, activation='softmax'))\n",
        "# Compile the model\n",
        "model.compile(loss='categorical_crossentropy', optimizer='adam', metrics=['accuracy'])\n",
        "\n",
        "# Print the model summary\n",
        "model.summary()"
      ],
      "metadata": {
        "id": "x1-88fIblY1j",
        "outputId": "4febee46-1b45-404e-c420-b391b8e2a588",
        "colab": {
          "base_uri": "https://localhost:8080/"
        }
      },
      "execution_count": null,
      "outputs": [
        {
          "output_type": "stream",
          "name": "stdout",
          "text": [
            "Model: \"sequential\"\n",
            "_________________________________________________________________\n",
            " Layer (type)                Output Shape              Param #   \n",
            "=================================================================\n",
            " embedding (Embedding)       (None, 15, 100)           275100    \n",
            "                                                                 \n",
            " lstm (LSTM)                 (None, 150)               150600    \n",
            "                                                                 \n",
            " dense (Dense)               (None, 2751)              415401    \n",
            "                                                                 \n",
            "=================================================================\n",
            "Total params: 841101 (3.21 MB)\n",
            "Trainable params: 841101 (3.21 MB)\n",
            "Non-trainable params: 0 (0.00 Byte)\n",
            "_________________________________________________________________\n"
          ]
        }
      ]
    },
    {
      "cell_type": "markdown",
      "source": [
        "# TODO: Model training"
      ],
      "metadata": {
        "id": "mgqvWzdUleUE"
      }
    },
    {
      "cell_type": "code",
      "source": [
        "# TODO: Train your model\n",
        "history = model.fit(X_train, y_train, epochs=20, validation_data=(X_val, y_val), verbose=1)"
      ],
      "metadata": {
        "id": "vhx4p1lWldOS",
        "outputId": "0311effc-2ebf-45f3-cf54-3f90abd79305",
        "colab": {
          "base_uri": "https://localhost:8080/"
        }
      },
      "execution_count": null,
      "outputs": [
        {
          "output_type": "stream",
          "name": "stdout",
          "text": [
            "Epoch 1/20\n",
            "661/661 [==============================] - 55s 78ms/step - loss: 6.2359 - accuracy: 0.0615 - val_loss: 6.0777 - val_accuracy: 0.0644\n",
            "Epoch 2/20\n",
            "661/661 [==============================] - 33s 50ms/step - loss: 5.8140 - accuracy: 0.0723 - val_loss: 5.9046 - val_accuracy: 0.0850\n",
            "Epoch 3/20\n",
            "661/661 [==============================] - 34s 51ms/step - loss: 5.5150 - accuracy: 0.0956 - val_loss: 5.7807 - val_accuracy: 0.0977\n",
            "Epoch 4/20\n",
            "661/661 [==============================] - 36s 55ms/step - loss: 5.2178 - accuracy: 0.1199 - val_loss: 5.6905 - val_accuracy: 0.1144\n",
            "Epoch 5/20\n",
            "661/661 [==============================] - 36s 55ms/step - loss: 4.9420 - accuracy: 0.1398 - val_loss: 5.6589 - val_accuracy: 0.1204\n",
            "Epoch 6/20\n",
            "661/661 [==============================] - 33s 50ms/step - loss: 4.6945 - accuracy: 0.1550 - val_loss: 5.6633 - val_accuracy: 0.1250\n",
            "Epoch 7/20\n",
            "661/661 [==============================] - 33s 50ms/step - loss: 4.4684 - accuracy: 0.1728 - val_loss: 5.6956 - val_accuracy: 0.1272\n",
            "Epoch 8/20\n",
            "661/661 [==============================] - 34s 51ms/step - loss: 4.2507 - accuracy: 0.1888 - val_loss: 5.7322 - val_accuracy: 0.1257\n",
            "Epoch 9/20\n",
            "661/661 [==============================] - 33s 50ms/step - loss: 4.0456 - accuracy: 0.2113 - val_loss: 5.7914 - val_accuracy: 0.1261\n",
            "Epoch 10/20\n",
            "661/661 [==============================] - 33s 49ms/step - loss: 3.8456 - accuracy: 0.2289 - val_loss: 5.8480 - val_accuracy: 0.1318\n",
            "Epoch 11/20\n",
            "661/661 [==============================] - 32s 49ms/step - loss: 3.6539 - accuracy: 0.2551 - val_loss: 5.9352 - val_accuracy: 0.1280\n",
            "Epoch 12/20\n",
            "661/661 [==============================] - 35s 53ms/step - loss: 3.4687 - accuracy: 0.2827 - val_loss: 6.0001 - val_accuracy: 0.1287\n",
            "Epoch 13/20\n",
            "661/661 [==============================] - 33s 50ms/step - loss: 3.2867 - accuracy: 0.3112 - val_loss: 6.1006 - val_accuracy: 0.1236\n",
            "Epoch 14/20\n",
            "661/661 [==============================] - 33s 50ms/step - loss: 3.1178 - accuracy: 0.3450 - val_loss: 6.1833 - val_accuracy: 0.1234\n",
            "Epoch 15/20\n",
            "661/661 [==============================] - 34s 51ms/step - loss: 2.9521 - accuracy: 0.3764 - val_loss: 6.2946 - val_accuracy: 0.1268\n",
            "Epoch 16/20\n",
            "661/661 [==============================] - 36s 54ms/step - loss: 2.7976 - accuracy: 0.4074 - val_loss: 6.3802 - val_accuracy: 0.1289\n",
            "Epoch 17/20\n",
            "661/661 [==============================] - 33s 50ms/step - loss: 2.6525 - accuracy: 0.4383 - val_loss: 6.4881 - val_accuracy: 0.1259\n",
            "Epoch 18/20\n",
            "661/661 [==============================] - 34s 52ms/step - loss: 2.5146 - accuracy: 0.4695 - val_loss: 6.5964 - val_accuracy: 0.1197\n",
            "Epoch 19/20\n",
            "661/661 [==============================] - 34s 51ms/step - loss: 2.3892 - accuracy: 0.4947 - val_loss: 6.6908 - val_accuracy: 0.1223\n",
            "Epoch 20/20\n",
            "661/661 [==============================] - 34s 51ms/step - loss: 2.2686 - accuracy: 0.5294 - val_loss: 6.7869 - val_accuracy: 0.1204\n"
          ]
        }
      ]
    },
    {
      "cell_type": "markdown",
      "source": [
        "# TODO: Visualising the Training and Validation Accuracies and Losses against the number of Epochs"
      ],
      "metadata": {
        "id": "69szYwGslknP"
      }
    },
    {
      "cell_type": "code",
      "source": [
        "# TODO: Plotting the training and validation loss and accuracy\n",
        "def plot_history(history):\n",
        "    plt.figure(figsize=(12, 4))\n",
        "\n",
        "    # Plot training & validation accuracy values\n",
        "    plt.subplot(1, 2, 1)\n",
        "    plt.plot(history.history['accuracy'])\n",
        "    plt.plot(history.history['val_accuracy'])\n",
        "    plt.title('Model accuracy')\n",
        "    plt.ylabel('Accuracy')\n",
        "    plt.xlabel('Epoch')\n",
        "    plt.legend(['Train', 'Validation'], loc='upper left')\n",
        "\n",
        "    # Plot training & validation loss values\n",
        "    plt.subplot(1, 2, 2)\n",
        "    plt.plot(history.history['loss'])\n",
        "    plt.plot(history.history['val_loss'])\n",
        "    plt.title('Model loss')\n",
        "    plt.ylabel('Loss')\n",
        "    plt.xlabel('Epoch')\n",
        "    plt.legend(['Train', 'Validation'], loc='upper left')\n",
        "\n",
        "    plt.show()\n",
        "\n",
        "plot_history(history)"
      ],
      "metadata": {
        "id": "ti0KtAsJllVB",
        "outputId": "3892f7aa-8361-4362-a3bb-0d53c26a9480",
        "colab": {
          "base_uri": "https://localhost:8080/",
          "height": 410
        }
      },
      "execution_count": null,
      "outputs": [
        {
          "output_type": "display_data",
          "data": {
            "text/plain": [
              "<Figure size 1200x400 with 2 Axes>"
            ],
            "image/png": "[encoded data removed]"
          },
          "metadata": {}
        }
      ]
    },
    {
      "cell_type": "code",
      "source": [
        "# My own Bidirectional Model with dropout layers\n",
        "from tensorflow.keras.models import Model\n",
        "from tensorflow.keras.layers import Input, Embedding, Bidirectional, LSTM, Dense, Dropout\n",
        "\n",
        "def create_bidirectional_lstm_model(max_sequence_len, total_words):\n",
        "    # Input layer\n",
        "    inputs = Input(shape=(max_sequence_len-1,))\n",
        "\n",
        "    # Embedding layer\n",
        "    embedding = Embedding(input_dim=total_words, output_dim=100, input_length=max_sequence_len-1)(inputs)\n",
        "\n",
        "    # Bidirectional LSTM layers\n",
        "    bilstm1 = Bidirectional(LSTM(150, return_sequences=True))(embedding)\n",
        "    dropout1 = Dropout(0.2)(bilstm1)\n",
        "\n",
        "    bilstm2 = Bidirectional(LSTM(150))(dropout1)\n",
        "    dropout2 = Dropout(0.2)(bilstm2)\n",
        "\n",
        "    # Output layer\n",
        "    outputs = Dense(total_words, activation='softmax')(dropout2)\n",
        "\n",
        "    # Create and compile model\n",
        "    model = Model(inputs=inputs, outputs=outputs)\n",
        "    model.compile(loss='categorical_crossentropy', optimizer='adam', metrics=['accuracy'])\n",
        "\n",
        "    return model\n",
        "\n",
        "# Create the Bidirectional LSTM model\n",
        "bidirectional_model = create_bidirectional_lstm_model(max_sequence_len, total_words)\n",
        "\n",
        "# Print the model summary\n",
        "bidirectional_model.summary()\n",
        "\n",
        "# Train the model\n",
        "bidirectional_history = bidirectional_model.fit(X_train, y_train, epochs=20, validation_data=(X_val, y_val), verbose=1)\n",
        "\n",
        "# Plot the training history\n",
        "plot_history(bidirectional_history)"
      ],
      "metadata": {
        "id": "u2fKm7rmKnJW",
        "outputId": "55c22275-1d34-4d44-df5c-6af197107072",
        "colab": {
          "base_uri": "https://localhost:8080/",
          "height": 1000
        }
      },
      "execution_count": null,
      "outputs": [
        {
          "output_type": "stream",
          "name": "stdout",
          "text": [
            "Model: \"model\"\n",
            "_________________________________________________________________\n",
            " Layer (type)                Output Shape              Param #   \n",
            "=================================================================\n",
            " input_1 (InputLayer)        [(None, 15)]              0         \n",
            "                                                                 \n",
            " embedding_2 (Embedding)     (None, 15, 100)           275100    \n",
            "                                                                 \n",
            " bidirectional_2 (Bidirecti  (None, 15, 300)           301200    \n",
            " onal)                                                           \n",
            "                                                                 \n",
            " dropout_2 (Dropout)         (None, 15, 300)           0         \n",
            "                                                                 \n",
            " bidirectional_3 (Bidirecti  (None, 300)               541200    \n",
            " onal)                                                           \n",
            "                                                                 \n",
            " dropout_3 (Dropout)         (None, 300)               0         \n",
            "                                                                 \n",
            " dense_2 (Dense)             (None, 2751)              828051    \n",
            "                                                                 \n",
            "=================================================================\n",
            "Total params: 1945551 (7.42 MB)\n",
            "Trainable params: 1945551 (7.42 MB)\n",
            "Non-trainable params: 0 (0.00 Byte)\n",
            "_________________________________________________________________\n",
            "Epoch 1/20\n",
            "661/661 [==============================] - 136s 193ms/step - loss: 6.1880 - accuracy: 0.0601 - val_loss: 6.0183 - val_accuracy: 0.0636\n",
            "Epoch 2/20\n",
            "661/661 [==============================] - 123s 187ms/step - loss: 5.8481 - accuracy: 0.0685 - val_loss: 5.9778 - val_accuracy: 0.0716\n",
            "Epoch 3/20\n",
            "661/661 [==============================] - 122s 185ms/step - loss: 5.7097 - accuracy: 0.0723 - val_loss: 5.9489 - val_accuracy: 0.0755\n",
            "Epoch 4/20\n",
            "661/661 [==============================] - 121s 183ms/step - loss: 5.5720 - accuracy: 0.0767 - val_loss: 5.9170 - val_accuracy: 0.0854\n",
            "Epoch 5/20\n",
            "661/661 [==============================] - 123s 186ms/step - loss: 5.3979 - accuracy: 0.0934 - val_loss: 5.8524 - val_accuracy: 0.0977\n",
            "Epoch 6/20\n",
            "661/661 [==============================] - 121s 183ms/step - loss: 5.2255 - accuracy: 0.1094 - val_loss: 5.8403 - val_accuracy: 0.1051\n",
            "Epoch 7/20\n",
            "661/661 [==============================] - 123s 185ms/step - loss: 5.0726 - accuracy: 0.1207 - val_loss: 5.8417 - val_accuracy: 0.1117\n",
            "Epoch 8/20\n",
            "661/661 [==============================] - 121s 182ms/step - loss: 4.9272 - accuracy: 0.1277 - val_loss: 5.8505 - val_accuracy: 0.1157\n",
            "Epoch 9/20\n",
            "661/661 [==============================] - 120s 182ms/step - loss: 4.7936 - accuracy: 0.1390 - val_loss: 5.8780 - val_accuracy: 0.1162\n",
            "Epoch 10/20\n",
            "661/661 [==============================] - 122s 185ms/step - loss: 4.6666 - accuracy: 0.1435 - val_loss: 5.9283 - val_accuracy: 0.1183\n",
            "Epoch 11/20\n",
            "661/661 [==============================] - 124s 188ms/step - loss: 4.5417 - accuracy: 0.1515 - val_loss: 5.9985 - val_accuracy: 0.1231\n",
            "Epoch 12/20\n",
            "661/661 [==============================] - 119s 181ms/step - loss: 4.4277 - accuracy: 0.1574 - val_loss: 6.0339 - val_accuracy: 0.1219\n",
            "Epoch 13/20\n",
            "661/661 [==============================] - 120s 181ms/step - loss: 4.3170 - accuracy: 0.1651 - val_loss: 6.1220 - val_accuracy: 0.1187\n",
            "Epoch 14/20\n",
            "661/661 [==============================] - 122s 184ms/step - loss: 4.2086 - accuracy: 0.1760 - val_loss: 6.1852 - val_accuracy: 0.1212\n",
            "Epoch 15/20\n",
            "661/661 [==============================] - 119s 180ms/step - loss: 4.0977 - accuracy: 0.1863 - val_loss: 6.2723 - val_accuracy: 0.1244\n",
            "Epoch 16/20\n",
            "661/661 [==============================] - 124s 188ms/step - loss: 3.9913 - accuracy: 0.1942 - val_loss: 6.3682 - val_accuracy: 0.1217\n",
            "Epoch 17/20\n",
            "661/661 [==============================] - 121s 183ms/step - loss: 3.8843 - accuracy: 0.2051 - val_loss: 6.4476 - val_accuracy: 0.1251\n",
            "Epoch 18/20\n",
            "661/661 [==============================] - 118s 179ms/step - loss: 3.7806 - accuracy: 0.2199 - val_loss: 6.5567 - val_accuracy: 0.1168\n",
            "Epoch 19/20\n",
            "661/661 [==============================] - 122s 185ms/step - loss: 3.6821 - accuracy: 0.2312 - val_loss: 6.6401 - val_accuracy: 0.1181\n",
            "Epoch 20/20\n",
            "661/661 [==============================] - 126s 190ms/step - loss: 3.5805 - accuracy: 0.2449 - val_loss: 6.7504 - val_accuracy: 0.1225\n"
          ]
        },
        {
          "output_type": "display_data",
          "data": {
            "text/plain": [
              "<Figure size 1200x400 with 2 Axes>"
            ],
            "image/png": "[encoded data removed]"
          },
          "metadata": {}
        }
      ]
    },
    {
      "cell_type": "markdown",
      "source": [
        "# TODO: Generate text"
      ],
      "metadata": {
        "id": "qMsd889wuvR4"
      }
    },
    {
      "cell_type": "code",
      "source": [
        "# TODO: Function to generate text\n",
        "def generate_text(model, tokenizer, seed_text, next_words, max_sequence_len, temperature=1.0):\n",
        "    result = seed_text\n",
        "    for _ in range(next_words):\n",
        "        # Tokenize the current text\n",
        "        token_list = tokenizer.texts_to_sequences([result])[0]\n",
        "        # Pad the tokenized text to the required sequence length\n",
        "        token_list = pad_sequences([token_list], maxlen=max_sequence_len-1, padding='pre')\n",
        "        # Predict the logits for the next word\n",
        "        predictions = model.predict(token_list, verbose=0)\n",
        "        # Adjust the logits by the temperature parameter\n",
        "        predictions = np.asarray(predictions).astype('float64')\n",
        "        predictions = np.log(predictions + 1e-7) / temperature\n",
        "        exp_preds = np.exp(predictions)\n",
        "        predictions = exp_preds / np.sum(exp_preds)\n",
        "        # Sample the next word's index based on these probabilities\n",
        "        probas = np.random.multinomial(1, predictions[0], 1)\n",
        "        next_index = np.argmax(probas)\n",
        "        # Map the index back to the corresponding word using the tokenizer\n",
        "        next_word = tokenizer.index_word[next_index]\n",
        "        # Append the word to the current text\n",
        "        result += \" \" + next_word\n",
        "    return result\n",
        "seed_text = \"Forest is\"\n",
        "next_words = 10\n",
        "\n",
        "# Generate text with temperature 0.05\n",
        "generated_text_low_temp = generate_text(model, tokenizer, seed_text, next_words, max_sequence_len, temperature=0.05)\n",
        "print(f\"Generated text with temperature 0.05: {generated_text_low_temp}\")\n",
        "\n",
        "# Generate text with temperature 1.5\n",
        "generated_text_high_temp = generate_text(model, tokenizer, seed_text, next_words, max_sequence_len, temperature=1.5)\n",
        "print(f\"Generated text with temperature 1.5: {generated_text_high_temp}\")\n"
      ],
      "metadata": {
        "id": "SXHE7cU_uxRx",
        "outputId": "3f5a7b0a-2e95-4ccc-fcff-d48e15891652",
        "colab": {
          "base_uri": "https://localhost:8080/"
        }
      },
      "execution_count": null,
      "outputs": [
        {
          "output_type": "stream",
          "name": "stdout",
          "text": [
            "Generated text with temperature 0.05: Forest is that the poor little thing sobbed again or twice at\n",
            "Generated text with temperature 1.5: Forest is but it ran one again again five angrily bats so\n"
          ]
        }
      ]
    }
  ]
}